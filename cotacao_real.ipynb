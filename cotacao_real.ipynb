{
  "nbformat": 4,
  "nbformat_minor": 0,
  "metadata": {
    "colab": {
      "provenance": []
    },
    "kernelspec": {
      "name": "python3",
      "display_name": "Python 3"
    },
    "language_info": {
      "name": "python"
    }
  },
  "cells": [
    {
      "cell_type": "code",
      "execution_count": 11,
      "metadata": {
        "colab": {
          "base_uri": "https://localhost:8080/"
        },
        "id": "pkwX_etav6_C",
        "outputId": "08d8901f-0585-45ce-dc02-e1d9f5453cff"
      },
      "outputs": [
        {
          "output_type": "stream",
          "name": "stdout",
          "text": [
            "Cotação Atualizada.2024-12-29 19:15:25.893768\n",
            "Cotação Atualizada.2024-12-29 19:16:26.248714\n",
            "Cotação Atualizada.2024-12-29 19:17:26.692688\n"
          ]
        }
      ],
      "source": [
        "import requests\n",
        "import pandas as pd\n",
        "from datetime import datetime\n",
        "import time\n",
        "\n",
        "for i in range (3):\n",
        "  requisicao = requests.get('https://economia.awesomeapi.com.br/last/USD-BRL,EUR-BRL,BTC-BRL')\n",
        "  requisicao_dic = requisicao.json()\n",
        "\n",
        "  cotacao_dolar = requisicao_dic['USDBRL']['bid']\n",
        "  cotacao_euro = requisicao_dic['EURBRL']['bid']\n",
        "  cotacao_btc = requisicao_dic['BTCBRL']['bid']\n",
        "\n",
        "  tabela = pd.read_excel('cotacao.xlsx')\n",
        "\n",
        "  tabela = pd.read_excel('cotacao.xlsx')\n",
        "  tabela.loc[0, 'Cotação'] = float(cotacao_dolar)\n",
        "  tabela.loc[1, 'Cotação'] = float(cotacao_euro)\n",
        "  tabela.loc[2, 'Cotação'] = float(cotacao_btc) * 1000\n",
        "  tabela.loc[0, 'Data Última Atualização'] = datetime.now()\n",
        "\n",
        "  tabela.to_excel('cotacao.xlsx', index=False)\n",
        "  print(f'Cotação Atualizada.{datetime.now()}')\n",
        "\n",
        "  time.sleep(60)\n"
      ]
    },
    {
      "cell_type": "code",
      "source": [
        "import requests\n",
        "import pandas as pd\n",
        "from datetime import datetime\n",
        "import time\n",
        "\n",
        "for i in range(3):\n",
        "    # Fazer a requisição para a API\n",
        "    requisicao = requests.get('https://economia.awesomeapi.com.br/last/USD-BRL,EUR-BRL,BTC-BRL')\n",
        "    requisicao_dic = requisicao.json()\n",
        "\n",
        "    cotacao_dolar = requisicao_dic['USDBRL']['bid']\n",
        "    cotacao_euro = requisicao_dic['EURBRL']['bid']\n",
        "    cotacao_btc = requisicao_dic['BTCBRL']['bid']\n",
        "\n",
        "    # Criar um DataFrame com as novas cotações\n",
        "    nova_linha = pd.DataFrame({\n",
        "        'Moeda': ['Dólar', 'Euro', 'Bitcoin'],\n",
        "        'Cotação': [float(cotacao_dolar), float(cotacao_euro), float(cotacao_btc) * 1000],\n",
        "        'Data Última Atualização': [datetime.now()] * 3\n",
        "    })\n",
        "\n",
        "    try:\n",
        "        # Ler o arquivo Excel existente\n",
        "        tabela = pd.read_excel('cotacao.xlsx')\n",
        "        # Concatenar a nova linha com a tabela existente\n",
        "        tabela = pd.concat([tabela, nova_linha], ignore_index=True)\n",
        "    except FileNotFoundError:\n",
        "        # Caso o arquivo não exista, criar uma nova tabela\n",
        "        tabela = nova_linha\n",
        "\n",
        "    # Salvar a tabela atualizada no arquivo Excel\n",
        "    tabela.to_excel('cotacao.xlsx', index=False)\n",
        "    print(f'Cotação Atualizada: {datetime.now()}')\n",
        "\n",
        "    # Aguardar 60 segundos antes da próxima atualização\n",
        "    time.sleep(60)\n"
      ],
      "metadata": {
        "colab": {
          "base_uri": "https://localhost:8080/"
        },
        "id": "XP6IKSsH3IvW",
        "outputId": "538d79de-c141-42dd-f9b1-b94f565fce27"
      },
      "execution_count": 12,
      "outputs": [
        {
          "output_type": "stream",
          "name": "stdout",
          "text": [
            "Cotação Atualizada: 2024-12-29 19:21:03.715499\n",
            "Cotação Atualizada: 2024-12-29 19:22:04.213292\n",
            "Cotação Atualizada: 2024-12-29 19:23:04.585876\n"
          ]
        }
      ]
    }
  ]
}